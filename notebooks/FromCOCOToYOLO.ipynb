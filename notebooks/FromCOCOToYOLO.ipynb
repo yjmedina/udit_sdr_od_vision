{
 "cells": [
  {
   "cell_type": "code",
   "execution_count": 1,
   "id": "e647ebcb",
   "metadata": {},
   "outputs": [],
   "source": [
    "import os\n",
    "import json\n",
    "\n",
    "coco_train_dir = \"train/\"\n",
    "yolo_output_dir = \"self_driving_yolo\""
   ]
  },
  {
   "cell_type": "code",
   "execution_count": 2,
   "id": "a681c1e1",
   "metadata": {},
   "outputs": [],
   "source": [
    "coco_labels_json = os.path.join(coco_train_dir, \"labels.json\")"
   ]
  },
  {
   "cell_type": "code",
   "execution_count": 3,
   "id": "e1408753",
   "metadata": {},
   "outputs": [],
   "source": [
    "assert os.path.exists(coco_labels_json)"
   ]
  },
  {
   "cell_type": "code",
   "execution_count": 4,
   "id": "c094ebd5",
   "metadata": {},
   "outputs": [],
   "source": [
    "with open(coco_labels_json) as f:\n",
    "    coco_labels = json.load(f)"
   ]
  },
  {
   "cell_type": "code",
   "execution_count": 5,
   "id": "1217b557",
   "metadata": {},
   "outputs": [
    {
     "data": {
      "text/plain": [
       "dict_keys(['info', 'licenses', 'categories', 'images', 'annotations'])"
      ]
     },
     "execution_count": 5,
     "metadata": {},
     "output_type": "execute_result"
    }
   ],
   "source": [
    "coco_labels.keys()"
   ]
  },
  {
   "cell_type": "code",
   "execution_count": 6,
   "id": "791dcc76",
   "metadata": {},
   "outputs": [],
   "source": [
    "yolo_config = {\n",
    "    # dataset root dir (absolute or relative; if relative, it's relative to default datasets_dir)\n",
    "    \"path\": \"self_driving_yolo\", \n",
    "    \"train\": \"images/train\", # train images (relative to 'path') 4 images\n",
    "    \"val\": \"images/val\", # val images (relative to 'path') 4 images\n",
    "    \"names\": []\n",
    "}"
   ]
  },
  {
   "cell_type": "code",
   "execution_count": 7,
   "id": "89a4b94e",
   "metadata": {},
   "outputs": [],
   "source": [
    "categories = {\n",
    "    i: category['name']\n",
    "    for i, category in enumerate(coco_labels['categories'][1: ])\n",
    "}"
   ]
  },
  {
   "cell_type": "code",
   "execution_count": 8,
   "id": "36e80e1f",
   "metadata": {},
   "outputs": [
    {
     "data": {
      "text/plain": [
       "{0: 'bicycle',\n",
       " 1: 'bus',\n",
       " 2: 'car',\n",
       " 3: 'human',\n",
       " 4: 'motorcycle',\n",
       " 5: 'trafficcone',\n",
       " 6: 'truck'}"
      ]
     },
     "execution_count": 8,
     "metadata": {},
     "output_type": "execute_result"
    }
   ],
   "source": [
    "categories"
   ]
  },
  {
   "cell_type": "code",
   "execution_count": 9,
   "id": "0c9869d2",
   "metadata": {},
   "outputs": [
    {
     "data": {
      "text/plain": [
       "{0: 'bicycle',\n",
       " 1: 'bus',\n",
       " 2: 'car',\n",
       " 3: 'human',\n",
       " 4: 'motorcycle',\n",
       " 5: 'trafficcone',\n",
       " 6: 'truck'}"
      ]
     },
     "execution_count": 9,
     "metadata": {},
     "output_type": "execute_result"
    }
   ],
   "source": [
    "categories"
   ]
  },
  {
   "cell_type": "code",
   "execution_count": 10,
   "id": "c16fe5dd",
   "metadata": {},
   "outputs": [],
   "source": [
    "yolo_config['names'] = categories"
   ]
  },
  {
   "cell_type": "code",
   "execution_count": 11,
   "id": "32dbe7a1",
   "metadata": {},
   "outputs": [
    {
     "data": {
      "text/plain": [
       "{'path': 'self_driving_yolo',\n",
       " 'train': 'images/train',\n",
       " 'val': 'images/val',\n",
       " 'names': {0: 'bicycle',\n",
       "  1: 'bus',\n",
       "  2: 'car',\n",
       "  3: 'human',\n",
       "  4: 'motorcycle',\n",
       "  5: 'trafficcone',\n",
       "  6: 'truck'}}"
      ]
     },
     "execution_count": 11,
     "metadata": {},
     "output_type": "execute_result"
    }
   ],
   "source": [
    "yolo_config"
   ]
  },
  {
   "cell_type": "code",
   "execution_count": 12,
   "id": "532e30d0",
   "metadata": {},
   "outputs": [],
   "source": [
    "os.makedirs(yolo_output_dir, exist_ok=True)"
   ]
  },
  {
   "cell_type": "code",
   "execution_count": 13,
   "id": "d9660d32",
   "metadata": {},
   "outputs": [],
   "source": [
    "import yaml\n",
    "import shutil"
   ]
  },
  {
   "cell_type": "code",
   "execution_count": 14,
   "id": "b48a54a9",
   "metadata": {},
   "outputs": [],
   "source": [
    "with open(os.path.join(yolo_output_dir, \"dataset.yaml\"), 'w') as f:\n",
    "    yaml.dump(yolo_config, f)"
   ]
  },
  {
   "cell_type": "code",
   "execution_count": 15,
   "id": "ffe5a479",
   "metadata": {},
   "outputs": [],
   "source": [
    "from collections import defaultdict\n",
    "id_to_annotations = defaultdict(list)\n",
    "for ann in coco_labels['annotations']:\n",
    "    id_to_annotations[ann['image_id']].append(ann)"
   ]
  },
  {
   "cell_type": "code",
   "execution_count": 16,
   "id": "e67a5c45",
   "metadata": {},
   "outputs": [],
   "source": [
    "from util import process_annotation\n",
    "set_type = 'train'"
   ]
  },
  {
   "cell_type": "code",
   "execution_count": 17,
   "id": "b9fe7929",
   "metadata": {},
   "outputs": [],
   "source": [
    "origin_images_dir = os.path.join(coco_train_dir, \"data\")"
   ]
  },
  {
   "cell_type": "code",
   "execution_count": 18,
   "id": "427f43a9",
   "metadata": {},
   "outputs": [],
   "source": [
    "images_dir = os.path.join(yolo_config['path'], \"images\", set_type)\n",
    "labels_dir = os.path.join(yolo_config['path'], \"labels\", set_type)"
   ]
  },
  {
   "cell_type": "code",
   "execution_count": 19,
   "id": "8ea113b2",
   "metadata": {},
   "outputs": [
    {
     "data": {
      "text/plain": [
       "'self_driving_yolo/images/train'"
      ]
     },
     "execution_count": 19,
     "metadata": {},
     "output_type": "execute_result"
    }
   ],
   "source": [
    "images_dir"
   ]
  },
  {
   "cell_type": "code",
   "execution_count": 20,
   "id": "0a7cf8a3",
   "metadata": {},
   "outputs": [],
   "source": [
    "os.makedirs(images_dir, exist_ok=True)\n",
    "os.makedirs(labels_dir, exist_ok=True)"
   ]
  },
  {
   "cell_type": "code",
   "execution_count": 21,
   "id": "a8ad7761",
   "metadata": {},
   "outputs": [],
   "source": [
    "images = coco_labels['images']"
   ]
  },
  {
   "cell_type": "code",
   "execution_count": 22,
   "id": "44383dba",
   "metadata": {
    "scrolled": true
   },
   "outputs": [],
   "source": [
    "for image in images[:100]:\n",
    "    annotations = id_to_annotations[image['id']]\n",
    "    yolo_annotations = [process_annotation(ann, image) for ann in annotations]\n",
    "    yolo_annotations_str = \"\\n\".join(yolo_annotations)\n",
    "\n",
    "    output_image_path = os.path.join(images_dir, image['file_name'])\n",
    "    output_labels_path = os.path.join(labels_dir, image['file_name'].replace(\".jpg\", \".txt\"))\n",
    "    \n",
    "    with open(output_labels_path, 'w') as f:\n",
    "        f.write(yolo_annotations_str)\n",
    "        \n",
    "    input_image_path = os.path.join(origin_images_dir, image['file_name'])\n",
    "    shutil.copy(input_image_path, output_image_path)"
   ]
  },
  {
   "cell_type": "markdown",
   "id": "4d54c442",
   "metadata": {},
   "source": [
    "Real time object detection "
   ]
  },
  {
   "cell_type": "code",
   "execution_count": 34,
   "id": "96cc739f",
   "metadata": {},
   "outputs": [],
   "source": [
    "import numpy as np"
   ]
  },
  {
   "cell_type": "code",
   "execution_count": 35,
   "id": "603b09d0",
   "metadata": {},
   "outputs": [],
   "source": [
    "n_classes = len(yolo_config['names'])"
   ]
  },
  {
   "cell_type": "code",
   "execution_count": 41,
   "id": "788c5125",
   "metadata": {},
   "outputs": [],
   "source": [
    "labels = np.zeros((len(images), n_classes), dtype=np.int32)"
   ]
  },
  {
   "cell_type": "code",
   "execution_count": 42,
   "id": "2606bc15",
   "metadata": {},
   "outputs": [],
   "source": [
    "for i, image in enumerate(images):\n",
    "    anns = id_to_annotations[image['id']]\n",
    "    for ann in anns:\n",
    "        labels[i, ann['category_id'] - 1] = 1\n",
    "        m = min(m, ann['category_id'])"
   ]
  },
  {
   "cell_type": "code",
   "execution_count": 43,
   "id": "da7ad177",
   "metadata": {},
   "outputs": [],
   "source": [
    "from skmultilearn.model_selection import iterative_train_test_split"
   ]
  },
  {
   "cell_type": "code",
   "execution_count": 49,
   "id": "b6ac3c51",
   "metadata": {},
   "outputs": [],
   "source": [
    "indices = np.arange(len(images))[:, np.newaxis]"
   ]
  },
  {
   "cell_type": "code",
   "execution_count": 51,
   "id": "90cbc3a7",
   "metadata": {},
   "outputs": [],
   "source": [
    "train_indices, train_labels, valid_indices, valid_labels = iterative_train_test_split(\n",
    "    indices,\n",
    "    labels,\n",
    "    test_size=0.2)\n"
   ]
  },
  {
   "cell_type": "code",
   "execution_count": 58,
   "id": "aba7a91e",
   "metadata": {},
   "outputs": [
    {
     "data": {
      "text/plain": [
       "array([0.14444182, 0.0730369 , 0.63859981, 0.50832545, 0.14411069,\n",
       "       0.25681173, 0.2705298 ])"
      ]
     },
     "execution_count": 58,
     "metadata": {},
     "output_type": "execute_result"
    }
   ],
   "source": [
    "train_labels.mean(axis=0)"
   ]
  },
  {
   "cell_type": "code",
   "execution_count": 57,
   "id": "7a67ef2f",
   "metadata": {},
   "outputs": [
    {
     "data": {
      "text/plain": [
       "array([0.1444518 , 0.07302999, 0.6385394 , 0.50827736, 0.14407341,\n",
       "       0.25683474, 0.27055151])"
      ]
     },
     "execution_count": 57,
     "metadata": {},
     "output_type": "execute_result"
    }
   ],
   "source": [
    "valid_labels.mean(axis=0)"
   ]
  },
  {
   "cell_type": "code",
   "execution_count": 59,
   "id": "3824da85",
   "metadata": {},
   "outputs": [],
   "source": [
    "train_images = [images[i] for i in train_indices.ravel()]"
   ]
  },
  {
   "cell_type": "code",
   "execution_count": 60,
   "id": "d57ddd81",
   "metadata": {},
   "outputs": [],
   "source": [
    "valid_images = [images[i] for i in valid_indices.ravel()]"
   ]
  },
  {
   "cell_type": "code",
   "execution_count": null,
   "id": "51659a87",
   "metadata": {},
   "outputs": [],
   "source": []
  }
 ],
 "metadata": {
  "kernelspec": {
   "display_name": "Python 3 (ipykernel)",
   "language": "python",
   "name": "python3"
  },
  "language_info": {
   "codemirror_mode": {
    "name": "ipython",
    "version": 3
   },
   "file_extension": ".py",
   "mimetype": "text/x-python",
   "name": "python",
   "nbconvert_exporter": "python",
   "pygments_lexer": "ipython3",
   "version": "3.10.17"
  }
 },
 "nbformat": 4,
 "nbformat_minor": 5
}
